{
 "cells": [
  {
   "cell_type": "code",
   "execution_count": 2,
   "id": "fa10b4cf",
   "metadata": {},
   "outputs": [],
   "source": [
    "import nltk\n",
    "from nltk.corpus import stopwords\n",
    "# nltk.download('stopwords')\n",
    "# nltk.download('wordnet')\n",
    "from nltk.tokenize import sent_tokenize, word_tokenize\n",
    "# nltk.download()\n",
    "from sklearn.model_selection import GridSearchCV\n",
    "import pandas as pd\n",
    "import re\n",
    "from sklearn.model_selection import train_test_split\n",
    "from nltk.stem import WordNetLemmatizer\n",
    "from sklearn.ensemble import RandomForestClassifier\n",
    "from sklearn import linear_model\n",
    "import numpy as np\n",
    "from sklearn.feature_extraction.text import CountVectorizer\n",
    "from sklearn.metrics import accuracy_score\n",
    "import pickle\n",
    "from matplotlib import pyplot as plt\n",
    "from sklearn.metrics import confusion_matrix,plot_confusion_matrix"
   ]
  },
  {
   "cell_type": "code",
   "execution_count": 3,
   "id": "019f77b6",
   "metadata": {},
   "outputs": [
    {
     "data": {
      "text/plain": [
       "array(['sadness', 'anger', 'love', 'surprise', 'fear', 'joy'],\n",
       "      dtype=object)"
      ]
     },
     "execution_count": 3,
     "metadata": {},
     "output_type": "execute_result"
    }
   ],
   "source": [
    "df_train = pd.read_csv(\"train.txt\",delimiter=';',names=['text','label'])\n",
    "df_val = pd.read_csv(\"val.txt\",delimiter=';',names=['text','label'])\n",
    "df = pd.concat([df_train,df_val])\n",
    "\n",
    "df.reset_index(drop=True,inplace=True)\n",
    "df['label'].unique()"
   ]
  },
  {
   "cell_type": "code",
   "execution_count": 4,
   "id": "d3690a90",
   "metadata": {},
   "outputs": [],
   "source": [
    "# data=pd.read_csv(\"custom_dataset_for_train.csv\")\n",
    "# data"
   ]
  },
  {
   "cell_type": "code",
   "execution_count": 5,
   "id": "3d4a27fe",
   "metadata": {},
   "outputs": [
    {
     "data": {
      "text/html": [
       "<div>\n",
       "<style scoped>\n",
       "    .dataframe tbody tr th:only-of-type {\n",
       "        vertical-align: middle;\n",
       "    }\n",
       "\n",
       "    .dataframe tbody tr th {\n",
       "        vertical-align: top;\n",
       "    }\n",
       "\n",
       "    .dataframe thead th {\n",
       "        text-align: right;\n",
       "    }\n",
       "</style>\n",
       "<table border=\"1\" class=\"dataframe\">\n",
       "  <thead>\n",
       "    <tr style=\"text-align: right;\">\n",
       "      <th></th>\n",
       "      <th>text</th>\n",
       "      <th>label</th>\n",
       "    </tr>\n",
       "  </thead>\n",
       "  <tbody>\n",
       "    <tr>\n",
       "      <th>0</th>\n",
       "      <td>i didnt feel humiliated</td>\n",
       "      <td>sadness</td>\n",
       "    </tr>\n",
       "    <tr>\n",
       "      <th>1</th>\n",
       "      <td>i can go from feeling so hopeless to so damned...</td>\n",
       "      <td>sadness</td>\n",
       "    </tr>\n",
       "    <tr>\n",
       "      <th>2</th>\n",
       "      <td>im grabbing a minute to post i feel greedy wrong</td>\n",
       "      <td>anger</td>\n",
       "    </tr>\n",
       "    <tr>\n",
       "      <th>3</th>\n",
       "      <td>i am ever feeling nostalgic about the fireplac...</td>\n",
       "      <td>love</td>\n",
       "    </tr>\n",
       "    <tr>\n",
       "      <th>4</th>\n",
       "      <td>i am feeling grouchy</td>\n",
       "      <td>anger</td>\n",
       "    </tr>\n",
       "    <tr>\n",
       "      <th>...</th>\n",
       "      <td>...</td>\n",
       "      <td>...</td>\n",
       "    </tr>\n",
       "    <tr>\n",
       "      <th>15995</th>\n",
       "      <td>i just had a very brief time in the beanbag an...</td>\n",
       "      <td>sadness</td>\n",
       "    </tr>\n",
       "    <tr>\n",
       "      <th>15996</th>\n",
       "      <td>i am now turning and i feel pathetic that i am...</td>\n",
       "      <td>sadness</td>\n",
       "    </tr>\n",
       "    <tr>\n",
       "      <th>15997</th>\n",
       "      <td>i feel strong and good overall</td>\n",
       "      <td>joy</td>\n",
       "    </tr>\n",
       "    <tr>\n",
       "      <th>15998</th>\n",
       "      <td>i feel like this was such a rude comment and i...</td>\n",
       "      <td>anger</td>\n",
       "    </tr>\n",
       "    <tr>\n",
       "      <th>15999</th>\n",
       "      <td>i know a lot but i feel so stupid because i ca...</td>\n",
       "      <td>sadness</td>\n",
       "    </tr>\n",
       "  </tbody>\n",
       "</table>\n",
       "<p>16000 rows × 2 columns</p>\n",
       "</div>"
      ],
      "text/plain": [
       "                                                    text    label\n",
       "0                                i didnt feel humiliated  sadness\n",
       "1      i can go from feeling so hopeless to so damned...  sadness\n",
       "2       im grabbing a minute to post i feel greedy wrong    anger\n",
       "3      i am ever feeling nostalgic about the fireplac...     love\n",
       "4                                   i am feeling grouchy    anger\n",
       "...                                                  ...      ...\n",
       "15995  i just had a very brief time in the beanbag an...  sadness\n",
       "15996  i am now turning and i feel pathetic that i am...  sadness\n",
       "15997                     i feel strong and good overall      joy\n",
       "15998  i feel like this was such a rude comment and i...    anger\n",
       "15999  i know a lot but i feel so stupid because i ca...  sadness\n",
       "\n",
       "[16000 rows x 2 columns]"
      ]
     },
     "execution_count": 5,
     "metadata": {},
     "output_type": "execute_result"
    }
   ],
   "source": [
    "df_train"
   ]
  },
  {
   "cell_type": "code",
   "execution_count": 6,
   "id": "2453bcaa",
   "metadata": {},
   "outputs": [
    {
     "ename": "PermissionError",
     "evalue": "[Errno 13] Permission denied: 'df_enco.csv'",
     "output_type": "error",
     "traceback": [
      "\u001b[1;31m---------------------------------------------------------------------------\u001b[0m",
      "\u001b[1;31mPermissionError\u001b[0m                           Traceback (most recent call last)",
      "\u001b[1;32m~\\AppData\\Local\\Temp/ipykernel_4288/2931877051.py\u001b[0m in \u001b[0;36m<module>\u001b[1;34m\u001b[0m\n\u001b[0;32m      9\u001b[0m \u001b[0menco\u001b[0m\u001b[1;33m(\u001b[0m\u001b[0mdf\u001b[0m\u001b[1;33m.\u001b[0m\u001b[0mlabel\u001b[0m\u001b[1;33m)\u001b[0m\u001b[1;33m\u001b[0m\u001b[1;33m\u001b[0m\u001b[0m\n\u001b[0;32m     10\u001b[0m \u001b[0menco\u001b[0m\u001b[1;33m(\u001b[0m\u001b[0mdf_train\u001b[0m\u001b[1;33m)\u001b[0m\u001b[1;33m\u001b[0m\u001b[1;33m\u001b[0m\u001b[0m\n\u001b[1;32m---> 11\u001b[1;33m \u001b[0mdf\u001b[0m\u001b[1;33m.\u001b[0m\u001b[0mto_csv\u001b[0m\u001b[1;33m(\u001b[0m\u001b[1;34m\"df_enco.csv\"\u001b[0m\u001b[1;33m)\u001b[0m\u001b[1;33m\u001b[0m\u001b[1;33m\u001b[0m\u001b[0m\n\u001b[0m\u001b[0;32m     12\u001b[0m \u001b[0mdf_train\u001b[0m\u001b[1;33m.\u001b[0m\u001b[0mto_csv\u001b[0m\u001b[1;33m(\u001b[0m\u001b[1;34m\"df_enco_train.csv\"\u001b[0m\u001b[1;33m)\u001b[0m\u001b[1;33m\u001b[0m\u001b[1;33m\u001b[0m\u001b[0m\n",
      "\u001b[1;32m~\\AppData\\Roaming\\Python\\Python39\\site-packages\\pandas\\core\\generic.py\u001b[0m in \u001b[0;36mto_csv\u001b[1;34m(self, path_or_buf, sep, na_rep, float_format, columns, header, index, index_label, mode, encoding, compression, quoting, quotechar, line_terminator, chunksize, date_format, doublequote, escapechar, decimal, errors)\u001b[0m\n\u001b[0;32m   3168\u001b[0m             \u001b[0mdecimal\u001b[0m\u001b[1;33m=\u001b[0m\u001b[0mdecimal\u001b[0m\u001b[1;33m,\u001b[0m\u001b[1;33m\u001b[0m\u001b[1;33m\u001b[0m\u001b[0m\n\u001b[0;32m   3169\u001b[0m         )\n\u001b[1;32m-> 3170\u001b[1;33m         \u001b[0mformatter\u001b[0m\u001b[1;33m.\u001b[0m\u001b[0msave\u001b[0m\u001b[1;33m(\u001b[0m\u001b[1;33m)\u001b[0m\u001b[1;33m\u001b[0m\u001b[1;33m\u001b[0m\u001b[0m\n\u001b[0m\u001b[0;32m   3171\u001b[0m \u001b[1;33m\u001b[0m\u001b[0m\n\u001b[0;32m   3172\u001b[0m         \u001b[1;32mif\u001b[0m \u001b[0mpath_or_buf\u001b[0m \u001b[1;32mis\u001b[0m \u001b[1;32mNone\u001b[0m\u001b[1;33m:\u001b[0m\u001b[1;33m\u001b[0m\u001b[1;33m\u001b[0m\u001b[0m\n",
      "\u001b[1;32m~\\AppData\\Roaming\\Python\\Python39\\site-packages\\pandas\\io\\formats\\csvs.py\u001b[0m in \u001b[0;36msave\u001b[1;34m(self)\u001b[0m\n\u001b[0;32m    183\u001b[0m             \u001b[0mclose\u001b[0m \u001b[1;33m=\u001b[0m \u001b[1;32mFalse\u001b[0m\u001b[1;33m\u001b[0m\u001b[1;33m\u001b[0m\u001b[0m\n\u001b[0;32m    184\u001b[0m         \u001b[1;32melse\u001b[0m\u001b[1;33m:\u001b[0m\u001b[1;33m\u001b[0m\u001b[1;33m\u001b[0m\u001b[0m\n\u001b[1;32m--> 185\u001b[1;33m             f, handles = get_handle(\n\u001b[0m\u001b[0;32m    186\u001b[0m                 \u001b[0mself\u001b[0m\u001b[1;33m.\u001b[0m\u001b[0mpath_or_buf\u001b[0m\u001b[1;33m,\u001b[0m\u001b[1;33m\u001b[0m\u001b[1;33m\u001b[0m\u001b[0m\n\u001b[0;32m    187\u001b[0m                 \u001b[0mself\u001b[0m\u001b[1;33m.\u001b[0m\u001b[0mmode\u001b[0m\u001b[1;33m,\u001b[0m\u001b[1;33m\u001b[0m\u001b[1;33m\u001b[0m\u001b[0m\n",
      "\u001b[1;32m~\\AppData\\Roaming\\Python\\Python39\\site-packages\\pandas\\io\\common.py\u001b[0m in \u001b[0;36mget_handle\u001b[1;34m(path_or_buf, mode, encoding, compression, memory_map, is_text, errors)\u001b[0m\n\u001b[0;32m    491\u001b[0m         \u001b[1;32mif\u001b[0m \u001b[0mencoding\u001b[0m\u001b[1;33m:\u001b[0m\u001b[1;33m\u001b[0m\u001b[1;33m\u001b[0m\u001b[0m\n\u001b[0;32m    492\u001b[0m             \u001b[1;31m# Encoding\u001b[0m\u001b[1;33m\u001b[0m\u001b[1;33m\u001b[0m\u001b[0m\n\u001b[1;32m--> 493\u001b[1;33m             \u001b[0mf\u001b[0m \u001b[1;33m=\u001b[0m \u001b[0mopen\u001b[0m\u001b[1;33m(\u001b[0m\u001b[0mpath_or_buf\u001b[0m\u001b[1;33m,\u001b[0m \u001b[0mmode\u001b[0m\u001b[1;33m,\u001b[0m \u001b[0mencoding\u001b[0m\u001b[1;33m=\u001b[0m\u001b[0mencoding\u001b[0m\u001b[1;33m,\u001b[0m \u001b[0merrors\u001b[0m\u001b[1;33m=\u001b[0m\u001b[0merrors\u001b[0m\u001b[1;33m,\u001b[0m \u001b[0mnewline\u001b[0m\u001b[1;33m=\u001b[0m\u001b[1;34m\"\"\u001b[0m\u001b[1;33m)\u001b[0m\u001b[1;33m\u001b[0m\u001b[1;33m\u001b[0m\u001b[0m\n\u001b[0m\u001b[0;32m    494\u001b[0m         \u001b[1;32melif\u001b[0m \u001b[0mis_text\u001b[0m\u001b[1;33m:\u001b[0m\u001b[1;33m\u001b[0m\u001b[1;33m\u001b[0m\u001b[0m\n\u001b[0;32m    495\u001b[0m             \u001b[1;31m# No explicit encoding\u001b[0m\u001b[1;33m\u001b[0m\u001b[1;33m\u001b[0m\u001b[0m\n",
      "\u001b[1;31mPermissionError\u001b[0m: [Errno 13] Permission denied: 'df_enco.csv'"
     ]
    }
   ],
   "source": [
    "def enco(df):\n",
    "    df.replace(to_replace=\"surprise\",value=1,inplace=True)\n",
    "    df.replace(to_replace=\"joy\",value=2,inplace=True)\n",
    "    df.replace(to_replace=\"love\",value=2,inplace=True)\n",
    "    df.replace(to_replace=\"sadness\",value=3,inplace=True)\n",
    "    df.replace(to_replace=\"anger\",value=3,inplace=True)\n",
    "    df.replace(to_replace=\"fear\",value=1,inplace=True)\n",
    "    \n",
    "enco(df.label)\n",
    "enco(df_train)\n",
    "df.to_csv(\"df_enco.csv\")\n",
    "df_train.to_csv(\"df_enco_train.csv\")"
   ]
  },
  {
   "cell_type": "code",
   "execution_count": null,
   "id": "a8f6e5a5",
   "metadata": {},
   "outputs": [],
   "source": [
    "pd1=pd.read_csv(\"df_enco.csv\")\n",
    "pd1"
   ]
  },
  {
   "cell_type": "code",
   "execution_count": null,
   "id": "8bbbb418",
   "metadata": {},
   "outputs": [],
   "source": [
    "fina=[]\n",
    "def conver(data):\n",
    "    for val in range(len(data)):\n",
    "        lm = WordNetLemmatizer()\n",
    "        stopword=set(stopwords.words(\"english\"))\n",
    "        wor=re.sub(\"[^A-Za-z]\",' ',str(data[val]))\n",
    "        wor=wor.lower() \n",
    "        wor=wor.split()\n",
    "        wor = [lm.lemmatize(word) for word in wor if word not in set(stopwords.words('english'))]    \n",
    "        tex=[]\n",
    "        for ijx in wor:\n",
    "            if ijx not in stopword:\n",
    "                tex.append(lm.lemmatize(ijx))\n",
    "        fina.append(\" \".join(tex))\n",
    "    print(fina)\n",
    "    print(len(fina))    \n",
    "    \n",
    "train_fina=[]\n",
    "def train_conver(data):\n",
    "    for val in range(len(data)):\n",
    "        lm = WordNetLemmatizer()\n",
    "        stopword=set(stopwords.words(\"english\"))\n",
    "        wor=re.sub(\"[^A-Za-z]\",' ',str(data[val]))\n",
    "        wor=wor.lower() \n",
    "        wor=wor.split()\n",
    "        wor = [lm.lemmatize(word) for word in wor if word not in set(stopwords.words('english'))]    \n",
    "        tex=[]\n",
    "        for ijx in wor:\n",
    "            if ijx not in stopword:\n",
    "                tex.append(lm.lemmatize(ijx))\n",
    "        train_fina.append(\" \".join(tex))\n",
    "    print(train_fina)\n",
    "    print(len(train_fina))\n",
    "    \n",
    "\n",
    "    "
   ]
  },
  {
   "cell_type": "code",
   "execution_count": null,
   "id": "20fc40db",
   "metadata": {},
   "outputs": [],
   "source": [
    "# conver(df.text)\n",
    "# train_conver(df_train.text)\n",
    "\n",
    "# fina_data=pd.DataFrame(fina,columns=[\"process\"])\n",
    "# fina_data.to_csv(\"processed.csv\")\n",
    "\n",
    "# train_da=pd.DataFrame(train_fina,columns=[\"process\"])\n",
    "# train_da.to_csv(\"train_process.csv\")"
   ]
  },
  {
   "cell_type": "code",
   "execution_count": null,
   "id": "bedaf595",
   "metadata": {},
   "outputs": [],
   "source": [
    "process_data=pd.read_csv(\"processed.csv\")\n",
    "process_data[\"process\"]\n",
    "train_process=pd.read_csv(\"train_process.csv\")\n",
    "# train_process=pd.read_csv(\"custom_dattt.csv\")\n",
    "train_process[\"process\"]\n",
    "process_data[\"process\"]"
   ]
  },
  {
   "cell_type": "code",
   "execution_count": null,
   "id": "b9bc7d95",
   "metadata": {},
   "outputs": [],
   "source": [
    "vector=CountVectorizer()\n",
    "x=vector.fit_transform(process_data[\"process\"])\n",
    "test=vector.transform(train_process[\"process\"])\n",
    "x.toarray()\n",
    "# test.toarray()\n",
    "\n"
   ]
  },
  {
   "cell_type": "code",
   "execution_count": null,
   "id": "3e83fa75",
   "metadata": {},
   "outputs": [],
   "source": [
    "param={'n_estimators':[100,200,300],\n",
    "      'criterion':['gini','entropy'],\n",
    "#       'max_depth':[10,20,30,40,50,60,70,80,90,100],\n",
    "#        'max_features':['auto','log2','sqrt'],\n",
    "#        'min_sample_leaf':[3,5,7,9,11],\n",
    "#        'min_samples_split': [2,5,10]\n",
    "      }\n",
    "# ,13,15,17,19,21,23,25 min sample"
   ]
  },
  {
   "cell_type": "code",
   "execution_count": null,
   "id": "0613f773",
   "metadata": {},
   "outputs": [],
   "source": [
    "model=RandomForestClassifier()\n",
    "grid=GridSearchCV(model,param,verbose=5,cv=10)\n"
   ]
  },
  {
   "cell_type": "code",
   "execution_count": null,
   "id": "262133fb",
   "metadata": {},
   "outputs": [],
   "source": [
    "# # grid.fit(x,df.label)  \n",
    "# grid.fit(x,pd.label) "
   ]
  },
  {
   "cell_type": "code",
   "execution_count": null,
   "id": "520d3452",
   "metadata": {},
   "outputs": [],
   "source": [
    "# pickle.dump(grid, open(\"grid_model_with_2_hp_22.pkl\", \"wb\"))\n",
    "# \n",
    "# gridd = pickle.load(open(\"grid_model_with_2_hp_22.pkl\", \"rb\"))\n",
    "\n",
    "# pickle.dump(grid, open(\"grid_model_with_2_hp_22_v2.pkl\", \"wb\"))\n",
    "# \n",
    "gridd = pickle.load(open(\"grid_model_with_2_hp_22_v2.sav\", \"rb\"))\n",
    "\n",
    "# pickle.dump(grid, open(\"grid_model_with_2_hp_22_v2.sav\", \"wb\"))\n",
    "\n",
    "# pickle.dump(vector, open(\"vector.sav\", \"wb\"))\n",
    "\n"
   ]
  },
  {
   "cell_type": "code",
   "execution_count": null,
   "id": "8e04d085",
   "metadata": {},
   "outputs": [],
   "source": [
    "gridd"
   ]
  },
  {
   "cell_type": "code",
   "execution_count": null,
   "id": "45828cfd",
   "metadata": {
    "scrolled": true
   },
   "outputs": [],
   "source": [
    "print(gridd.cv_results_)\n",
    "print(gridd.best_estimator_)\n",
    "# print(gridd.best_index_)\n",
    "print(gridd.best_params_)\n",
    "print(gridd.best_score_)"
   ]
  },
  {
   "cell_type": "code",
   "execution_count": null,
   "id": "2e3233e4",
   "metadata": {},
   "outputs": [],
   "source": [
    "predic_grid_random=gridd.predict(test)\n",
    "acc_grid_random=accuracy_score(df_train.label,predic_grid_random)\n",
    "acc_grid_random\n"
   ]
  },
  {
   "cell_type": "code",
   "execution_count": null,
   "id": "c2e0c53c",
   "metadata": {},
   "outputs": [],
   "source": [
    "#Confusion Matrix\n",
    "\n",
    "result=confusion_matrix(y_true=df_train.label,y_pred=predic_grid_random)\n",
    "print(result)\n",
    "True_Positive =result[0][0]\n",
    "False_Negative=result[0][1]+result[0][2]\n",
    "False_Positive=result[1][0]+result[2][0]\n",
    "True_Negative=result[1][1]+result[2][2]\n",
    "print(f\"True Positive :{True_Positive}\")\n",
    "print(f\"False Negative :{False_Negative}\")\n",
    "print(f\"False Positive :{False_Positive}\")\n",
    "print(f\"True Negative :{True_Negative}\")\n",
    "matrix=[[True_Positive,False_Negative],[False_Positive,True_Negative]]\n",
    "print(np.matrix(matrix))\n"
   ]
  },
  {
   "cell_type": "code",
   "execution_count": null,
   "id": "54c9b185",
   "metadata": {},
   "outputs": [],
   "source": [
    "inp=input(\"Enter\")\n",
    "# gridd.predict(test)\n",
    "\n",
    "train_fina=[]\n",
    "# for val in range(len(df_train.text)):\n",
    "lm = WordNetLemmatizer()\n",
    "stopword=set(stopwords.words(\"english\"))\n",
    "wor=re.sub(\"[^A-Za-z]\",' ',str(inp))\n",
    "wor=wor.lower()    \n",
    "wor=wor.split()\n",
    "wor = [lm.lemmatize(word) for word in wor if word not in set(stopwords.words('english'))]\n",
    "tex=[]\n",
    "for ijx in wor:\n",
    "    if ijx not in stopword:\n",
    "        tex.append(lm.lemmatize(ijx))\n",
    "train_fina.append(\" \".join(tex))\n",
    "print(train_fina)\n",
    "print(len(train_fina))        \n",
    "test=vector.transform(train_fina)\n",
    "predic=gridd.predict(test)\n",
    "# predic[0]\n",
    "\n",
    "# if(predic[0] == 1):\n",
    "#     print(\"Surprice\")\n",
    "    \n",
    "# if(predic[0] == 2):\n",
    "#     print(\"Joy\")\n",
    "# if(predic[0] == 3):\n",
    "#     print(\"Love\")\n",
    "# if(predic[0] == 4):\n",
    "#     print(\"Sadness\")\n",
    "# if(predic[0] == 5):\n",
    "#     print(\"Anger\")\n",
    "# if(predic[0] == 6):\n",
    "#     print(\"Fear\")\n",
    "\n",
    "\n",
    "# nnnnnnnnnnnnnnnnnnnnnnnnnnnnnnnnnnnnnnnnnnnnnnnnnnnnnnnnn"
   ]
  },
  {
   "cell_type": "code",
   "execution_count": null,
   "id": "06f78fc8",
   "metadata": {},
   "outputs": [],
   "source": [
    "\n",
    "\n",
    "def check(inpp):\n",
    "    train_fina=[]\n",
    "    # for val in range(len(df_train.text)):\n",
    "    lm = WordNetLemmatizer()\n",
    "    stopword=set(stopwords.words(\"english\"))\n",
    "    wor=re.sub(\"[^A-Za-z]\",' ',str(inpp))\n",
    "    wor=wor.lower()    \n",
    "    wor=wor.split()\n",
    "    wor = [lm.lemmatize(word) for word in wor if word not in set(stopwords.words('english'))]\n",
    "    tex=[]\n",
    "    for ijx in wor:\n",
    "        if ijx not in stopword:\n",
    "            tex.append(lm.lemmatize(ijx))\n",
    "    train_fina.append(\" \".join(tex))\n",
    "    print(train_fina)\n",
    "    print(len(train_fina))        \n",
    "    test=vector.transform(train_fina)\n",
    "    predic=gridd.predict(test)\n",
    "    predic[0]\n",
    "\n",
    "    if(predic[0] == 1):\n",
    "        print(\"Neutral\")\n",
    "\n",
    "    if(predic[0] == 2):\n",
    "        print(\"Positive\")\n",
    "    if(predic[0] == 3):\n",
    "        print(\"Negative\")\n",
    "    # if(predic[0] == 4):\n",
    "    #     print(\"Sadness\")\n",
    "    # if(predic[0] == 5):\n",
    "    #     print(\"Anger\")\n",
    "    # if(predic[0] == 6):\n",
    "    #     print(\"Fear\")\n",
    "\n",
    "    # elif(predic[0] == 0):\n",
    "    #     print(\"sadness, anger, fear\")\n",
    "\n",
    "inp=input()\n",
    "check(inp)"
   ]
  }
 ],
 "metadata": {
  "kernelspec": {
   "display_name": "Python 3 (ipykernel)",
   "language": "python",
   "name": "python3"
  },
  "language_info": {
   "codemirror_mode": {
    "name": "ipython",
    "version": 3
   },
   "file_extension": ".py",
   "mimetype": "text/x-python",
   "name": "python",
   "nbconvert_exporter": "python",
   "pygments_lexer": "ipython3",
   "version": "3.9.7"
  }
 },
 "nbformat": 4,
 "nbformat_minor": 5
}
