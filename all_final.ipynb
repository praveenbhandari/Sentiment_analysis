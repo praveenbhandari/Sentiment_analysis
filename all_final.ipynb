{
 "cells": [
  {
   "cell_type": "code",
   "execution_count": 7,
   "id": "fa10b4cf",
   "metadata": {},
   "outputs": [],
   "source": [
    "import nltk\n",
    "from nltk.corpus import stopwords\n",
    "# nltk.download()\n",
    "# nltk.download('wordnet')\n",
    "from nltk.tokenize import sent_tokenize, word_tokenize\n",
    "# nltk.download()\n",
    "from sklearn.model_selection import GridSearchCV\n",
    "import pandas as pd\n",
    "import re\n",
    "from sklearn.model_selection import train_test_split\n",
    "from nltk.stem import WordNetLemmatizer\n",
    "from sklearn.ensemble import RandomForestClassifier\n",
    "from sklearn import linear_model\n",
    "import numpy as np\n",
    "from sklearn.feature_extraction.text import CountVectorizer\n",
    "from sklearn.metrics import accuracy_score\n",
    "import pickle\n",
    "from matplotlib import pyplot as plt\n",
    "from sklearn.metrics import confusion_matrix,plot_confusion_matrix"
   ]
  },
  {
   "cell_type": "code",
   "execution_count": 8,
   "id": "019f77b6",
   "metadata": {},
   "outputs": [
    {
     "ename": "FileNotFoundError",
     "evalue": "[Errno 2] No such file or directory: 'train.txt'",
     "output_type": "error",
     "traceback": [
      "\u001b[1;31m---------------------------------------------------------------------------\u001b[0m",
      "\u001b[1;31mFileNotFoundError\u001b[0m                         Traceback (most recent call last)",
      "\u001b[1;32m~\\AppData\\Local\\Temp/ipykernel_12400/2307729710.py\u001b[0m in \u001b[0;36m<module>\u001b[1;34m\u001b[0m\n\u001b[1;32m----> 1\u001b[1;33m \u001b[0mdf_train\u001b[0m \u001b[1;33m=\u001b[0m \u001b[0mpd\u001b[0m\u001b[1;33m.\u001b[0m\u001b[0mread_csv\u001b[0m\u001b[1;33m(\u001b[0m\u001b[1;34m\"train.txt\"\u001b[0m\u001b[1;33m,\u001b[0m\u001b[0mdelimiter\u001b[0m\u001b[1;33m=\u001b[0m\u001b[1;34m';'\u001b[0m\u001b[1;33m,\u001b[0m\u001b[0mnames\u001b[0m\u001b[1;33m=\u001b[0m\u001b[1;33m[\u001b[0m\u001b[1;34m'text'\u001b[0m\u001b[1;33m,\u001b[0m\u001b[1;34m'label'\u001b[0m\u001b[1;33m]\u001b[0m\u001b[1;33m)\u001b[0m\u001b[1;33m\u001b[0m\u001b[1;33m\u001b[0m\u001b[0m\n\u001b[0m\u001b[0;32m      2\u001b[0m \u001b[0mdf_val\u001b[0m \u001b[1;33m=\u001b[0m \u001b[0mpd\u001b[0m\u001b[1;33m.\u001b[0m\u001b[0mread_csv\u001b[0m\u001b[1;33m(\u001b[0m\u001b[1;34m\"val.txt\"\u001b[0m\u001b[1;33m,\u001b[0m\u001b[0mdelimiter\u001b[0m\u001b[1;33m=\u001b[0m\u001b[1;34m';'\u001b[0m\u001b[1;33m,\u001b[0m\u001b[0mnames\u001b[0m\u001b[1;33m=\u001b[0m\u001b[1;33m[\u001b[0m\u001b[1;34m'text'\u001b[0m\u001b[1;33m,\u001b[0m\u001b[1;34m'label'\u001b[0m\u001b[1;33m]\u001b[0m\u001b[1;33m)\u001b[0m\u001b[1;33m\u001b[0m\u001b[1;33m\u001b[0m\u001b[0m\n\u001b[0;32m      3\u001b[0m \u001b[0mdf\u001b[0m \u001b[1;33m=\u001b[0m \u001b[0mpd\u001b[0m\u001b[1;33m.\u001b[0m\u001b[0mconcat\u001b[0m\u001b[1;33m(\u001b[0m\u001b[1;33m[\u001b[0m\u001b[0mdf_train\u001b[0m\u001b[1;33m,\u001b[0m\u001b[0mdf_val\u001b[0m\u001b[1;33m]\u001b[0m\u001b[1;33m)\u001b[0m\u001b[1;33m\u001b[0m\u001b[1;33m\u001b[0m\u001b[0m\n\u001b[0;32m      4\u001b[0m \u001b[1;33m\u001b[0m\u001b[0m\n\u001b[0;32m      5\u001b[0m \u001b[0mdf\u001b[0m\u001b[1;33m.\u001b[0m\u001b[0mreset_index\u001b[0m\u001b[1;33m(\u001b[0m\u001b[0mdrop\u001b[0m\u001b[1;33m=\u001b[0m\u001b[1;32mTrue\u001b[0m\u001b[1;33m,\u001b[0m\u001b[0minplace\u001b[0m\u001b[1;33m=\u001b[0m\u001b[1;32mTrue\u001b[0m\u001b[1;33m)\u001b[0m\u001b[1;33m\u001b[0m\u001b[1;33m\u001b[0m\u001b[0m\n",
      "\u001b[1;32mC:\\ProgramData\\Anaconda3\\lib\\site-packages\\pandas\\util\\_decorators.py\u001b[0m in \u001b[0;36mwrapper\u001b[1;34m(*args, **kwargs)\u001b[0m\n\u001b[0;32m    309\u001b[0m                     \u001b[0mstacklevel\u001b[0m\u001b[1;33m=\u001b[0m\u001b[0mstacklevel\u001b[0m\u001b[1;33m,\u001b[0m\u001b[1;33m\u001b[0m\u001b[1;33m\u001b[0m\u001b[0m\n\u001b[0;32m    310\u001b[0m                 )\n\u001b[1;32m--> 311\u001b[1;33m             \u001b[1;32mreturn\u001b[0m \u001b[0mfunc\u001b[0m\u001b[1;33m(\u001b[0m\u001b[1;33m*\u001b[0m\u001b[0margs\u001b[0m\u001b[1;33m,\u001b[0m \u001b[1;33m**\u001b[0m\u001b[0mkwargs\u001b[0m\u001b[1;33m)\u001b[0m\u001b[1;33m\u001b[0m\u001b[1;33m\u001b[0m\u001b[0m\n\u001b[0m\u001b[0;32m    312\u001b[0m \u001b[1;33m\u001b[0m\u001b[0m\n\u001b[0;32m    313\u001b[0m         \u001b[1;32mreturn\u001b[0m \u001b[0mwrapper\u001b[0m\u001b[1;33m\u001b[0m\u001b[1;33m\u001b[0m\u001b[0m\n",
      "\u001b[1;32mC:\\ProgramData\\Anaconda3\\lib\\site-packages\\pandas\\io\\parsers\\readers.py\u001b[0m in \u001b[0;36mread_csv\u001b[1;34m(filepath_or_buffer, sep, delimiter, header, names, index_col, usecols, squeeze, prefix, mangle_dupe_cols, dtype, engine, converters, true_values, false_values, skipinitialspace, skiprows, skipfooter, nrows, na_values, keep_default_na, na_filter, verbose, skip_blank_lines, parse_dates, infer_datetime_format, keep_date_col, date_parser, dayfirst, cache_dates, iterator, chunksize, compression, thousands, decimal, lineterminator, quotechar, quoting, doublequote, escapechar, comment, encoding, encoding_errors, dialect, error_bad_lines, warn_bad_lines, on_bad_lines, delim_whitespace, low_memory, memory_map, float_precision, storage_options)\u001b[0m\n\u001b[0;32m    584\u001b[0m     \u001b[0mkwds\u001b[0m\u001b[1;33m.\u001b[0m\u001b[0mupdate\u001b[0m\u001b[1;33m(\u001b[0m\u001b[0mkwds_defaults\u001b[0m\u001b[1;33m)\u001b[0m\u001b[1;33m\u001b[0m\u001b[1;33m\u001b[0m\u001b[0m\n\u001b[0;32m    585\u001b[0m \u001b[1;33m\u001b[0m\u001b[0m\n\u001b[1;32m--> 586\u001b[1;33m     \u001b[1;32mreturn\u001b[0m \u001b[0m_read\u001b[0m\u001b[1;33m(\u001b[0m\u001b[0mfilepath_or_buffer\u001b[0m\u001b[1;33m,\u001b[0m \u001b[0mkwds\u001b[0m\u001b[1;33m)\u001b[0m\u001b[1;33m\u001b[0m\u001b[1;33m\u001b[0m\u001b[0m\n\u001b[0m\u001b[0;32m    587\u001b[0m \u001b[1;33m\u001b[0m\u001b[0m\n\u001b[0;32m    588\u001b[0m \u001b[1;33m\u001b[0m\u001b[0m\n",
      "\u001b[1;32mC:\\ProgramData\\Anaconda3\\lib\\site-packages\\pandas\\io\\parsers\\readers.py\u001b[0m in \u001b[0;36m_read\u001b[1;34m(filepath_or_buffer, kwds)\u001b[0m\n\u001b[0;32m    480\u001b[0m \u001b[1;33m\u001b[0m\u001b[0m\n\u001b[0;32m    481\u001b[0m     \u001b[1;31m# Create the parser.\u001b[0m\u001b[1;33m\u001b[0m\u001b[1;33m\u001b[0m\u001b[0m\n\u001b[1;32m--> 482\u001b[1;33m     \u001b[0mparser\u001b[0m \u001b[1;33m=\u001b[0m \u001b[0mTextFileReader\u001b[0m\u001b[1;33m(\u001b[0m\u001b[0mfilepath_or_buffer\u001b[0m\u001b[1;33m,\u001b[0m \u001b[1;33m**\u001b[0m\u001b[0mkwds\u001b[0m\u001b[1;33m)\u001b[0m\u001b[1;33m\u001b[0m\u001b[1;33m\u001b[0m\u001b[0m\n\u001b[0m\u001b[0;32m    483\u001b[0m \u001b[1;33m\u001b[0m\u001b[0m\n\u001b[0;32m    484\u001b[0m     \u001b[1;32mif\u001b[0m \u001b[0mchunksize\u001b[0m \u001b[1;32mor\u001b[0m \u001b[0miterator\u001b[0m\u001b[1;33m:\u001b[0m\u001b[1;33m\u001b[0m\u001b[1;33m\u001b[0m\u001b[0m\n",
      "\u001b[1;32mC:\\ProgramData\\Anaconda3\\lib\\site-packages\\pandas\\io\\parsers\\readers.py\u001b[0m in \u001b[0;36m__init__\u001b[1;34m(self, f, engine, **kwds)\u001b[0m\n\u001b[0;32m    809\u001b[0m             \u001b[0mself\u001b[0m\u001b[1;33m.\u001b[0m\u001b[0moptions\u001b[0m\u001b[1;33m[\u001b[0m\u001b[1;34m\"has_index_names\"\u001b[0m\u001b[1;33m]\u001b[0m \u001b[1;33m=\u001b[0m \u001b[0mkwds\u001b[0m\u001b[1;33m[\u001b[0m\u001b[1;34m\"has_index_names\"\u001b[0m\u001b[1;33m]\u001b[0m\u001b[1;33m\u001b[0m\u001b[1;33m\u001b[0m\u001b[0m\n\u001b[0;32m    810\u001b[0m \u001b[1;33m\u001b[0m\u001b[0m\n\u001b[1;32m--> 811\u001b[1;33m         \u001b[0mself\u001b[0m\u001b[1;33m.\u001b[0m\u001b[0m_engine\u001b[0m \u001b[1;33m=\u001b[0m \u001b[0mself\u001b[0m\u001b[1;33m.\u001b[0m\u001b[0m_make_engine\u001b[0m\u001b[1;33m(\u001b[0m\u001b[0mself\u001b[0m\u001b[1;33m.\u001b[0m\u001b[0mengine\u001b[0m\u001b[1;33m)\u001b[0m\u001b[1;33m\u001b[0m\u001b[1;33m\u001b[0m\u001b[0m\n\u001b[0m\u001b[0;32m    812\u001b[0m \u001b[1;33m\u001b[0m\u001b[0m\n\u001b[0;32m    813\u001b[0m     \u001b[1;32mdef\u001b[0m \u001b[0mclose\u001b[0m\u001b[1;33m(\u001b[0m\u001b[0mself\u001b[0m\u001b[1;33m)\u001b[0m\u001b[1;33m:\u001b[0m\u001b[1;33m\u001b[0m\u001b[1;33m\u001b[0m\u001b[0m\n",
      "\u001b[1;32mC:\\ProgramData\\Anaconda3\\lib\\site-packages\\pandas\\io\\parsers\\readers.py\u001b[0m in \u001b[0;36m_make_engine\u001b[1;34m(self, engine)\u001b[0m\n\u001b[0;32m   1038\u001b[0m             )\n\u001b[0;32m   1039\u001b[0m         \u001b[1;31m# error: Too many arguments for \"ParserBase\"\u001b[0m\u001b[1;33m\u001b[0m\u001b[1;33m\u001b[0m\u001b[0m\n\u001b[1;32m-> 1040\u001b[1;33m         \u001b[1;32mreturn\u001b[0m \u001b[0mmapping\u001b[0m\u001b[1;33m[\u001b[0m\u001b[0mengine\u001b[0m\u001b[1;33m]\u001b[0m\u001b[1;33m(\u001b[0m\u001b[0mself\u001b[0m\u001b[1;33m.\u001b[0m\u001b[0mf\u001b[0m\u001b[1;33m,\u001b[0m \u001b[1;33m**\u001b[0m\u001b[0mself\u001b[0m\u001b[1;33m.\u001b[0m\u001b[0moptions\u001b[0m\u001b[1;33m)\u001b[0m  \u001b[1;31m# type: ignore[call-arg]\u001b[0m\u001b[1;33m\u001b[0m\u001b[1;33m\u001b[0m\u001b[0m\n\u001b[0m\u001b[0;32m   1041\u001b[0m \u001b[1;33m\u001b[0m\u001b[0m\n\u001b[0;32m   1042\u001b[0m     \u001b[1;32mdef\u001b[0m \u001b[0m_failover_to_python\u001b[0m\u001b[1;33m(\u001b[0m\u001b[0mself\u001b[0m\u001b[1;33m)\u001b[0m\u001b[1;33m:\u001b[0m\u001b[1;33m\u001b[0m\u001b[1;33m\u001b[0m\u001b[0m\n",
      "\u001b[1;32mC:\\ProgramData\\Anaconda3\\lib\\site-packages\\pandas\\io\\parsers\\c_parser_wrapper.py\u001b[0m in \u001b[0;36m__init__\u001b[1;34m(self, src, **kwds)\u001b[0m\n\u001b[0;32m     49\u001b[0m \u001b[1;33m\u001b[0m\u001b[0m\n\u001b[0;32m     50\u001b[0m         \u001b[1;31m# open handles\u001b[0m\u001b[1;33m\u001b[0m\u001b[1;33m\u001b[0m\u001b[0m\n\u001b[1;32m---> 51\u001b[1;33m         \u001b[0mself\u001b[0m\u001b[1;33m.\u001b[0m\u001b[0m_open_handles\u001b[0m\u001b[1;33m(\u001b[0m\u001b[0msrc\u001b[0m\u001b[1;33m,\u001b[0m \u001b[0mkwds\u001b[0m\u001b[1;33m)\u001b[0m\u001b[1;33m\u001b[0m\u001b[1;33m\u001b[0m\u001b[0m\n\u001b[0m\u001b[0;32m     52\u001b[0m         \u001b[1;32massert\u001b[0m \u001b[0mself\u001b[0m\u001b[1;33m.\u001b[0m\u001b[0mhandles\u001b[0m \u001b[1;32mis\u001b[0m \u001b[1;32mnot\u001b[0m \u001b[1;32mNone\u001b[0m\u001b[1;33m\u001b[0m\u001b[1;33m\u001b[0m\u001b[0m\n\u001b[0;32m     53\u001b[0m \u001b[1;33m\u001b[0m\u001b[0m\n",
      "\u001b[1;32mC:\\ProgramData\\Anaconda3\\lib\\site-packages\\pandas\\io\\parsers\\base_parser.py\u001b[0m in \u001b[0;36m_open_handles\u001b[1;34m(self, src, kwds)\u001b[0m\n\u001b[0;32m    220\u001b[0m         \u001b[0mLet\u001b[0m \u001b[0mthe\u001b[0m \u001b[0mreaders\u001b[0m \u001b[0mopen\u001b[0m \u001b[0mIOHandles\u001b[0m \u001b[0mafter\u001b[0m \u001b[0mthey\u001b[0m \u001b[0mare\u001b[0m \u001b[0mdone\u001b[0m \u001b[1;32mwith\u001b[0m \u001b[0mtheir\u001b[0m \u001b[0mpotential\u001b[0m \u001b[0mraises\u001b[0m\u001b[1;33m.\u001b[0m\u001b[1;33m\u001b[0m\u001b[1;33m\u001b[0m\u001b[0m\n\u001b[0;32m    221\u001b[0m         \"\"\"\n\u001b[1;32m--> 222\u001b[1;33m         self.handles = get_handle(\n\u001b[0m\u001b[0;32m    223\u001b[0m             \u001b[0msrc\u001b[0m\u001b[1;33m,\u001b[0m\u001b[1;33m\u001b[0m\u001b[1;33m\u001b[0m\u001b[0m\n\u001b[0;32m    224\u001b[0m             \u001b[1;34m\"r\"\u001b[0m\u001b[1;33m,\u001b[0m\u001b[1;33m\u001b[0m\u001b[1;33m\u001b[0m\u001b[0m\n",
      "\u001b[1;32mC:\\ProgramData\\Anaconda3\\lib\\site-packages\\pandas\\io\\common.py\u001b[0m in \u001b[0;36mget_handle\u001b[1;34m(path_or_buf, mode, encoding, compression, memory_map, is_text, errors, storage_options)\u001b[0m\n\u001b[0;32m    700\u001b[0m         \u001b[1;32mif\u001b[0m \u001b[0mioargs\u001b[0m\u001b[1;33m.\u001b[0m\u001b[0mencoding\u001b[0m \u001b[1;32mand\u001b[0m \u001b[1;34m\"b\"\u001b[0m \u001b[1;32mnot\u001b[0m \u001b[1;32min\u001b[0m \u001b[0mioargs\u001b[0m\u001b[1;33m.\u001b[0m\u001b[0mmode\u001b[0m\u001b[1;33m:\u001b[0m\u001b[1;33m\u001b[0m\u001b[1;33m\u001b[0m\u001b[0m\n\u001b[0;32m    701\u001b[0m             \u001b[1;31m# Encoding\u001b[0m\u001b[1;33m\u001b[0m\u001b[1;33m\u001b[0m\u001b[0m\n\u001b[1;32m--> 702\u001b[1;33m             handle = open(\n\u001b[0m\u001b[0;32m    703\u001b[0m                 \u001b[0mhandle\u001b[0m\u001b[1;33m,\u001b[0m\u001b[1;33m\u001b[0m\u001b[1;33m\u001b[0m\u001b[0m\n\u001b[0;32m    704\u001b[0m                 \u001b[0mioargs\u001b[0m\u001b[1;33m.\u001b[0m\u001b[0mmode\u001b[0m\u001b[1;33m,\u001b[0m\u001b[1;33m\u001b[0m\u001b[1;33m\u001b[0m\u001b[0m\n",
      "\u001b[1;31mFileNotFoundError\u001b[0m: [Errno 2] No such file or directory: 'train.txt'"
     ]
    }
   ],
   "source": [
    "df_train = pd.read_csv(\"train.txt\",delimiter=';',names=['text','label'])\n",
    "df_val = pd.read_csv(\"val.txt\",delimiter=';',names=['text','label'])\n",
    "df = pd.concat([df_train,df_val])\n",
    "\n",
    "df.reset_index(drop=True,inplace=True)\n",
    "df['label'].unique()"
   ]
  },
  {
   "cell_type": "code",
   "execution_count": null,
   "id": "d3690a90",
   "metadata": {},
   "outputs": [],
   "source": [
    "# data=pd.read_csv(\"custom_dataset_for_train.csv\")\n",
    "# data"
   ]
  },
  {
   "cell_type": "code",
   "execution_count": null,
   "id": "3d4a27fe",
   "metadata": {},
   "outputs": [],
   "source": [
    "df_train"
   ]
  },
  {
   "cell_type": "code",
   "execution_count": null,
   "id": "2453bcaa",
   "metadata": {},
   "outputs": [],
   "source": [
    "def enco(df):\n",
    "    df.replace(to_replace=\"surprise\",value=1,inplace=True)\n",
    "    df.replace(to_replace=\"joy\",value=2,inplace=True)\n",
    "    df.replace(to_replace=\"love\",value=2,inplace=True)\n",
    "    df.replace(to_replace=\"sadness\",value=3,inplace=True)\n",
    "    df.replace(to_replace=\"anger\",value=3,inplace=True)\n",
    "    df.replace(to_replace=\"fear\",value=1,inplace=True)\n",
    "    \n",
    "enco(df.label)\n",
    "enco(df_train)\n",
    "df.to_csv(\"df_enco.csv\")\n",
    "df_train.to_csv(\"df_enco_train.csv\")"
   ]
  },
  {
   "cell_type": "code",
   "execution_count": null,
   "id": "a8f6e5a5",
   "metadata": {},
   "outputs": [],
   "source": [
    "pd1=pd.read_csv(\"df_enco.csv\")\n",
    "pd1"
   ]
  },
  {
   "cell_type": "code",
   "execution_count": null,
   "id": "8bbbb418",
   "metadata": {},
   "outputs": [],
   "source": [
    "fina=[]\n",
    "def conver(data):\n",
    "    for val in range(len(data)):\n",
    "        lm = WordNetLemmatizer()\n",
    "        stopword=set(stopwords.words(\"english\"))\n",
    "        wor=re.sub(\"[^A-Za-z]\",' ',str(data[val]))\n",
    "        wor=wor.lower() \n",
    "        wor=wor.split()\n",
    "        wor = [lm.lemmatize(word) for word in wor if word not in set(stopwords.words('english'))]    \n",
    "        tex=[]\n",
    "        for ijx in wor:\n",
    "            if ijx not in stopword:\n",
    "                tex.append(lm.lemmatize(ijx))\n",
    "        fina.append(\" \".join(tex))\n",
    "    print(fina)\n",
    "    print(len(fina))    \n",
    "    \n",
    "train_fina=[]\n",
    "def train_conver(data):\n",
    "    for val in range(len(data)):\n",
    "        lm = WordNetLemmatizer()\n",
    "        stopword=set(stopwords.words(\"english\"))\n",
    "        wor=re.sub(\"[^A-Za-z]\",' ',str(data[val]))\n",
    "        wor=wor.lower() \n",
    "        wor=wor.split()\n",
    "        wor = [lm.lemmatize(word) for word in wor if word not in set(stopwords.words('english'))]    \n",
    "        tex=[]\n",
    "        for ijx in wor:\n",
    "            if ijx not in stopword:\n",
    "                tex.append(lm.lemmatize(ijx))\n",
    "        train_fina.append(\" \".join(tex))\n",
    "    print(train_fina)\n",
    "    print(len(train_fina))\n",
    "    \n",
    "\n",
    "    "
   ]
  },
  {
   "cell_type": "code",
   "execution_count": null,
   "id": "20fc40db",
   "metadata": {},
   "outputs": [],
   "source": [
    "# conver(df.text)\n",
    "# train_conver(df_train.text)\n",
    "\n",
    "# fina_data=pd.DataFrame(fina,columns=[\"process\"])\n",
    "# fina_data.to_csv(\"processed.csv\")\n",
    "\n",
    "# train_da=pd.DataFrame(train_fina,columns=[\"process\"])\n",
    "# train_da.to_csv(\"train_process.csv\")"
   ]
  },
  {
   "cell_type": "code",
   "execution_count": null,
   "id": "bedaf595",
   "metadata": {},
   "outputs": [],
   "source": [
    "process_data=pd.read_csv(\"processed.csv\")\n",
    "process_data[\"process\"]\n",
    "train_process=pd.read_csv(\"train_process.csv\")\n",
    "# train_process=pd.read_csv(\"custom_dattt.csv\")\n",
    "train_process[\"process\"]\n",
    "process_data[\"process\"]"
   ]
  },
  {
   "cell_type": "code",
   "execution_count": null,
   "id": "b9bc7d95",
   "metadata": {},
   "outputs": [],
   "source": [
    "vector=CountVectorizer()\n",
    "x=vector.fit_transform(process_data[\"process\"])\n",
    "test=vector.transform(train_process[\"process\"])\n",
    "x.toarray()\n",
    "# test.toarray()\n",
    "\n"
   ]
  },
  {
   "cell_type": "code",
   "execution_count": null,
   "id": "3e83fa75",
   "metadata": {},
   "outputs": [],
   "source": [
    "param={'n_estimators':[100,200,300],\n",
    "      'criterion':['gini','entropy'],\n",
    "#       'max_depth':[10,20,30,40,50,60,70,80,90,100],\n",
    "#        'max_features':['auto','log2','sqrt'],\n",
    "#        'min_sample_leaf':[3,5,7,9,11],\n",
    "#        'min_samples_split': [2,5,10]\n",
    "      }\n",
    "# ,13,15,17,19,21,23,25 min sample"
   ]
  },
  {
   "cell_type": "code",
   "execution_count": null,
   "id": "0613f773",
   "metadata": {},
   "outputs": [],
   "source": [
    "model=RandomForestClassifier()\n",
    "grid=GridSearchCV(model,param,verbose=5,cv=10)\n"
   ]
  },
  {
   "cell_type": "code",
   "execution_count": null,
   "id": "262133fb",
   "metadata": {},
   "outputs": [],
   "source": [
    "# # grid.fit(x,df.label)  \n",
    "# grid.fit(x,pd.label) "
   ]
  },
  {
   "cell_type": "code",
   "execution_count": null,
   "id": "520d3452",
   "metadata": {},
   "outputs": [],
   "source": [
    "# pickle.dump(grid, open(\"grid_model_with_2_hp_22.pkl\", \"wb\"))\n",
    "# \n",
    "# gridd = pickle.load(open(\"grid_model_with_2_hp_22.pkl\", \"rb\"))\n",
    "\n",
    "# pickle.dump(grid, open(\"grid_model_with_2_hp_22_v2.pkl\", \"wb\"))\n",
    "# \n",
    "gridd = pickle.load(open(\"grid_model_with_2_hp_22_v2.sav\", \"rb\"))\n",
    "\n",
    "# pickle.dump(grid, open(\"grid_model_with_2_hp_22_v2.sav\", \"wb\"))\n",
    "\n",
    "# pickle.dump(vector, open(\"vector.sav\", \"wb\"))\n",
    "\n"
   ]
  },
  {
   "cell_type": "code",
   "execution_count": null,
   "id": "8e04d085",
   "metadata": {},
   "outputs": [],
   "source": [
    "gridd"
   ]
  },
  {
   "cell_type": "code",
   "execution_count": null,
   "id": "45828cfd",
   "metadata": {
    "scrolled": true
   },
   "outputs": [],
   "source": [
    "print(gridd.cv_results_)\n",
    "print(gridd.best_estimator_)\n",
    "# print(gridd.best_index_)\n",
    "print(gridd.best_params_)\n",
    "print(gridd.best_score_)"
   ]
  },
  {
   "cell_type": "code",
   "execution_count": null,
   "id": "2e3233e4",
   "metadata": {},
   "outputs": [],
   "source": [
    "predic_grid_random=gridd.predict(test)\n",
    "acc_grid_random=accuracy_score(df_train.label,predic_grid_random)\n",
    "acc_grid_random\n"
   ]
  },
  {
   "cell_type": "code",
   "execution_count": null,
   "id": "c2e0c53c",
   "metadata": {},
   "outputs": [],
   "source": [
    "#Confusion Matrix\n",
    "\n",
    "confusion_matrix(y_true=df_train.label,y_pred=predic_grid_random)"
   ]
  },
  {
   "cell_type": "code",
   "execution_count": null,
   "id": "54c9b185",
   "metadata": {},
   "outputs": [],
   "source": [
    "# nnnnnnnnnnnnnnnnnnnnnnnnnnnnnnnnnnnnnnnnnnnnnnnnnnnnnnnnn\n",
    "\n",
    "inp=input(\"Enter\")\n",
    "# gridd.predict(test)\n",
    "train_fina=[]\n",
    "# for val in range(len(df_train.text)):\n",
    "lm = WordNetLemmatizer()\n",
    "stopword=set(stopwords.words(\"english\"))\n",
    "wor=re.sub(\"[^A-Za-z]\",' ',str(inp))\n",
    "wor=wor.lower()    \n",
    "wor=wor.split()\n",
    "wor = [lm.lemmatize(word) for word in wor if word not in set(stopwords.words('english'))]\n",
    "tex=[]\n",
    "for ijx in wor:\n",
    "    if ijx not in stopword:\n",
    "        tex.append(lm.lemmatize(ijx))\n",
    "train_fina.append(\" \".join(tex))\n",
    "print(train_fina)\n",
    "print(len(train_fina))        \n",
    "test=vector.transform(train_fina)\n",
    "predic=gridd.predict(test)\n",
    "# predic[0]\n",
    "\n",
    "# if(predic[0] == 1):\n",
    "#     print(\"Surprice\")\n",
    "    \n",
    "# if(predic[0] == 2):\n",
    "#     print(\"Joy\")\n",
    "# if(predic[0] == 3):\n",
    "#     print(\"Love\")\n",
    "# if(predic[0] == 4):\n",
    "#     print(\"Sadness\")\n",
    "# if(predic[0] == 5):\n",
    "#     print(\"Anger\")\n",
    "# if(predic[0] == 6):\n",
    "#     print(\"Fear\")\n",
    "\n",
    "\n",
    "# nnnnnnnnnnnnnnnnnnnnnnnnnnnnnnnnnnnnnnnnnnnnnnnnnnnnnnnnn"
   ]
  },
  {
   "cell_type": "code",
   "execution_count": null,
   "id": "06f78fc8",
   "metadata": {},
   "outputs": [],
   "source": [
    "\n",
    "\n",
    "def check(inpp):\n",
    "    train_fina=[]\n",
    "    # for val in range(len(df_train.text)):\n",
    "    lm = WordNetLemmatizer()\n",
    "    stopword=set(stopwords.words(\"english\"))\n",
    "    wor=re.sub(\"[^A-Za-z]\",' ',str(inpp))\n",
    "    wor=wor.lower()    \n",
    "    wor=wor.split()\n",
    "    wor = [lm.lemmatize(word) for word in wor if word not in set(stopwords.words('english'))]\n",
    "    tex=[]\n",
    "    for ijx in wor:\n",
    "        if ijx not in stopword:\n",
    "            tex.append(lm.lemmatize(ijx))\n",
    "    train_fina.append(\" \".join(tex))\n",
    "    print(train_fina)\n",
    "    print(len(train_fina))        \n",
    "    test=vector.transform(train_fina)\n",
    "    predic=gridd.predict(test)\n",
    "    predic[0]\n",
    "\n",
    "    if(predic[0] == 1):\n",
    "        print(\"Neutral\")\n",
    "\n",
    "    if(predic[0] == 2):\n",
    "        print(\"Positive\")\n",
    "    if(predic[0] == 3):\n",
    "        print(\"Negative\")\n",
    "    # if(predic[0] == 4):\n",
    "    #     print(\"Sadness\")\n",
    "    # if(predic[0] == 5):\n",
    "    #     print(\"Anger\")\n",
    "    # if(predic[0] == 6):\n",
    "    #     print(\"Fear\")\n",
    "\n",
    "    # elif(predic[0] == 0):\n",
    "    #     print(\"sadness, anger, fear\")\n",
    "\n",
    "inp=input()\n",
    "check(inp)"
   ]
  }
 ],
 "metadata": {
  "kernelspec": {
   "display_name": "Python 3 (ipykernel)",
   "language": "python",
   "name": "python3"
  },
  "language_info": {
   "codemirror_mode": {
    "name": "ipython",
    "version": 3
   },
   "file_extension": ".py",
   "mimetype": "text/x-python",
   "name": "python",
   "nbconvert_exporter": "python",
   "pygments_lexer": "ipython3",
   "version": "3.9.7"
  }
 },
 "nbformat": 4,
 "nbformat_minor": 5
}
